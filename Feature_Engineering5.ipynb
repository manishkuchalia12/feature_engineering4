{
 "cells": [
  {
   "cell_type": "markdown",
   "id": "00fb8b2a-9813-4b51-9e8d-1a03dadad896",
   "metadata": {},
   "source": [
    "Q1. What is the difference between Ordinal Encoding and Label Encoding? Provide an example of when you \n",
    "might choose one over the other.\n",
    "Ans:-\r\n",
    "Ordinal Encoding\r\n",
    "\r\n",
    "Nature: Ordinal encoding is specifically used for ordinal categorical data, where there is a meaningful order or ranking among the categories.\r\n",
    "Representation: It assigns numerical values to categories based on their order, preserving the ordinal relationships between them.\r\n",
    "Example: If the categories are \"Low,\" \"Medium,\" and \"High,\" ordinal encoding might assign the values 1, 2, and 3, respectively.\r\n",
    "Label Encding:\r\n",
    "\r\n",
    "Nature: Label encoding is a more general technique and can be applied to both ordinal and nominal categorical data.\r\n",
    "Representation: It assigns numerical values to categories without necessarily preserving any inherent order or ranking. Each category is assigned a unique integer label.\r\n",
    "Example: If the categories are \"Red,\" \"Green,\" and \"Blue,\" label encoding might assign the values 1, 2, and 3, without implying any order.\r\n",
    "When to Choose One Overthe Other:\r\n",
    "\r\n",
    "Choose Ordinal Ecoding When:\r\n",
    "\r\n",
    "The categorical variable has a clear order or ranking among its categories.\r\n",
    "Preserving the ordinal relationships is important for the analysis or model (e.g., for features like education level, satisfaction level).\r\n",
    "Choose Labl Encoding When:\r\n",
    "\r\n",
    "The categorical variable represents nominal data, and there is no meaningful order among the categories.\r\n",
    "You want a simple representation, and the order of categories doesn't matter or is not relevant to the analysis.\r\n",
    "Example Scenario:\r\n",
    "Consider a dataset with a \"Temperature\" variable with categories \"Low,\" \"Medium,\" and \"High,\" and a \"Color\" variable with categories \"Red,\" \"Green,\" and \"Blue.\""
   ]
  },
  {
   "cell_type": "markdown",
   "id": "9d3c94c0-3dac-4547-9e8f-bf9bf618ee1e",
   "metadata": {},
   "source": [
    "Q2. Explain how Target Guided Ordinal Encoding works and provide an example of when you might use it in \n",
    "a machine learning project.\n",
    "Ans:-Target Guided Ordinal Encoding:\n",
    "\r\n",
    "Target Guided Ordinal Encoding is a technique in which categorical variables are encoded based on the mean of the target variable for each category. This method is especially useful when dealing with ordinal categorical variables, and the goal is to capture the ordinal relationships while incorporating information about the target variabl.\r\n",
    "\r\n",
    "Here's how it typically woks:\r\n",
    "\r\n",
    "Calculate the Mean of the Target Variable for Each Catgory:\r\n",
    "\r\n",
    "For each category in the ordinal variable, calculate the mean of the target variable (the variable you are trying to predict).\r\n",
    "Order the Categories Based on the Mean Targe Values:\r\n",
    "\r\n",
    "Order the categories based on the calculated mean target values. This ordering reflects the impact or importance of each category on the target variable.\r\n",
    "Assign Ordnal Labels:\r\n",
    "\r\n",
    "Assign ordinal labels to the categories based on their order. The category with the highest mean target value might get the highest label, and s on.\r\n",
    "Example:\r\n",
    "\r\n",
    "Suppose you have a dataset with an ordinal variable \"Education Level\" and a binary target variable \"Churn\" indicating whether a customer has churned or not. The education levels are \"High School,\" \"Bachelor's,\" \"Master's,\" and \"Ph.D.\""
   ]
  },
  {
   "cell_type": "code",
   "execution_count": null,
   "id": "052efe8e-e2fd-47ae-94fa-7dbca5d10ad0",
   "metadata": {},
   "outputs": [],
   "source": [
    "| Education Level | Churn (Target) |\n",
    "|-----------------|----------------|\n",
    "| High School     | 1              |\n",
    "| Bachelor's      | 0              |\n",
    "| Master's        | 0              |\n",
    "| Ph.D.           | 1              |\n",
    "| Bachelor's      | 1              |\n",
    "| Master's        | 0              |\n",
    "| Ph.D.           | 0              |\n",
    "| High School     | 1              |\n"
   ]
  },
  {
   "cell_type": "markdown",
   "id": "93297ed7-7539-42e2-ac13-d3b45dd57f97",
   "metadata": {},
   "source": [
    "Q3. Define covariance and explain why it is important in statistical analysis. How is covariance calculated?\n",
    "Ans:-Covariance:\n",
    "\r\n",
    "Covariance is a measure that indicates the degree to which two variables change together. In other words, it assesses the joint variability of two random variables. A positive covariance indicates that the variables tend to increase or decrease together, while a negative covariance suggests that as one variable increases, the other tends to decreas.\r\n",
    "\r\n",
    "Importance in Statistical Analyis:\r\n",
    "\r\n",
    "Covariance is essential in statistical analysis for several resons:\r\n",
    "\r\n",
    "Relationship between Variables: Covariance helps to understand the direction of the linear relationship between two variables. Positive covariance implies a positive relationship, while negative covariance implies a negative relatonship.\r\n",
    "\r\n",
    "Risk and Diversification: In finance, covariance is used to assess the risk and diversification benefits of combining different assets in a portfolio. Low or negative covariance between assets can reduce overall portflio risk.\r\n",
    "\r\n",
    "Linear Regression: In linear regression, covariance is a key component in calculating the coefficients that define the relationship between the independent and dependen variables.\r\n",
    "\r\n",
    "Multivariate Analysis: In multivariate analysis, covariance matrices are used to describe the joint variability of multile variables.\r\n",
    "\r\n",
    "Calculation of Covariance:"
   ]
  },
  {
   "cell_type": "code",
   "execution_count": null,
   "id": "899872c3-fe66-41b7-8ac0-2cec17948cc2",
   "metadata": {},
   "outputs": [],
   "source": [
    "import numpy as np\n",
    "\n",
    "# Example data\n",
    "X = np.array([1, 2, 3, 4, 5])\n",
    "Y = np.array([2, 3, 4, 5, 6])\n",
    "\n",
    "# Calculate means\n",
    "mean_X = np.mean(X)\n",
    "mean_Y = np.mean(Y)\n",
    "\n",
    "# Calculate covariance\n",
    "covariance = np.sum((X - mean_X) * (Y - mean_Y)) / len(X)\n",
    "\n",
    "print(f\"Covariance between X and Y: {covariance}\")\n"
   ]
  },
  {
   "cell_type": "markdown",
   "id": "5c0e90b1-30b5-4172-9002-e4a3f919a6a1",
   "metadata": {},
   "source": [
    "Q4. For a dataset with the following categorical variables: Color (red, green, blue), Size (small, medium, \n",
    "large), and Material (wood, metal, plastic), perform label encoding using Python's scikit-learn library. \n",
    "Show your code and explain the output."
   ]
  },
  {
   "cell_type": "code",
   "execution_count": null,
   "id": "b9fdc186-d9a6-42bf-8237-c6b049de8889",
   "metadata": {},
   "outputs": [],
   "source": [
    "from sklearn.preprocessing import LabelEncoder\n",
    "import pandas as pd\n",
    "\n",
    "# Sample dataset\n",
    "data = {\n",
    "    'Color': ['red', 'green', 'blue', 'green', 'red'],\n",
    "    'Size': ['small', 'medium', 'large', 'medium', 'small'],\n",
    "    'Material': ['wood', 'metal', 'plastic', 'metal', 'wood']\n",
    "}\n",
    "\n",
    "df = pd.DataFrame(data)\n",
    "\n",
    "# Initialize LabelEncoder\n",
    "label_encoder = LabelEncoder()\n",
    "\n",
    "# Apply label encoding to each categorical column\n",
    "for column in df.columns:\n",
    "    if df[column].dtype == 'object':\n",
    "        df[column + '_encoded'] = label_encoder.fit_transform(df[column])\n",
    "\n",
    "# Display the transformed DataFrame\n",
    "print(df)\n"
   ]
  },
  {
   "cell_type": "markdown",
   "id": "1bfd7586-a5d5-4686-b362-5f954f27f9d5",
   "metadata": {},
   "source": [
    "Explanation:\n",
    "The original categorical columns are \"Color,\" \"Size,\" and \"Material.\"\n",
    "For each categorical column, a new column is created with \"_encoded\" suffix, containing the label-encoded values.\n",
    "The label encoding is done independently for each column. For example, 'red' is encoded as 2 in the \"Color_encoded\" column, 'small' is encoded as 2 in the \"Size_encoded\" column, and 'wood' is encoded as 2 in the \"Material_encoded\" column.\n",
    "The encoded values are integers, and the mapping between the original categories and encoded values is learned separately for each categorical column."
   ]
  },
  {
   "cell_type": "markdown",
   "id": "05e19b56-6582-45e8-a3d5-894ed3ce744c",
   "metadata": {},
   "source": [
    "Q5. Calculate the covariance matrix for the following variables in a dataset: Age, Income, and Education \n",
    "level. Interpret the results.\n"
   ]
  },
  {
   "cell_type": "code",
   "execution_count": null,
   "id": "be113625-c85e-4223-b17b-032960646c17",
   "metadata": {},
   "outputs": [],
   "source": [
    "import numpy as np\n",
    "\n",
    "# Example data (replace with your actual data)\n",
    "age = np.array([25, 30, 35, 40, 45])\n",
    "income = np.array([50000, 60000, 75000, 90000, 80000])\n",
    "education_level = np.array([12, 16, 14, 18, 16])\n",
    "\n",
    "# Stack the variables into a matrix\n",
    "data_matrix = np.vstack((age, income, education_level))\n",
    "\n",
    "# Calculate the covariance matrix\n",
    "covariance_matrix = np.cov(data_matrix)\n",
    "\n",
    "# Display the covariance matrix\n",
    "print(\"Covariance Matrix:\")\n",
    "print(covariance_matrix)\n"
   ]
  },
  {
   "cell_type": "markdown",
   "id": "8d5f66d5-aab3-4dcf-a367-aeeb565de85d",
   "metadata": {},
   "source": [
    "Q6. You are working on a machine learning project with a dataset containing several categorical \n",
    "variables, including \"Gender\" (Male/Female), \"Education Level\" (High School/Bachelor's/Master's/PhD), \n",
    "and \"Employment Status\" (Unemployed/Part-Time/Full-Time). Which encoding method would you use for \n",
    "each variable, and why?"
   ]
  }
 ],
 "metadata": {
  "kernelspec": {
   "display_name": "Python 3 (ipykernel)",
   "language": "python",
   "name": "python3"
  },
  "language_info": {
   "codemirror_mode": {
    "name": "ipython",
    "version": 3
   },
   "file_extension": ".py",
   "mimetype": "text/x-python",
   "name": "python",
   "nbconvert_exporter": "python",
   "pygments_lexer": "ipython3",
   "version": "3.12.0"
  }
 },
 "nbformat": 4,
 "nbformat_minor": 5
}
